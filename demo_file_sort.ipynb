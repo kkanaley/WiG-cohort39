{
 "cells": [
  {
   "cell_type": "markdown",
   "id": "13ab26db",
   "metadata": {},
   "source": [
    "# Demo: File Sorting and Data Extraction\n",
    "\n",
    "### The following code demonstrates how to sort through a set of log files, select only files of interest, and extract the lat/long coordinate pairs from each file. "
   ]
  },
  {
   "cell_type": "code",
   "execution_count": null,
   "id": "414b0295",
   "metadata": {},
   "outputs": [],
   "source": [
    "# Import the required packages.\n",
    "\n",
    "import os, glob\n",
    "\n",
    "import pandas as pd\n",
    "import numpy as np"
   ]
  },
  {
   "cell_type": "markdown",
   "id": "54d81b62",
   "metadata": {},
   "source": [
    "### This example assumes that all files are stored in the same directory/folder, and that the files of interest are all of the same file type. In this case, that file type is .csv. However, the code will work for any other file type. Simply change the search criteria from \".csv\" to the appropriate file type."
   ]
  },
  {
   "cell_type": "code",
   "execution_count": null,
   "id": "be2098a1",
   "metadata": {},
   "outputs": [],
   "source": [
    "#Set the path to the directory/folder where the files are stored. \n",
    "#Note: This example uses Mac path syntax but the same steps will work for Windows.\n",
    "\n",
    "path=\"/Users/username/directory\"\n",
    "\n",
    "#Filter files to .csv files \n",
    "\n",
    "search_criteria = \"*.csv\"\n",
    "q = os.path.join(path, search_criteria)\n",
    "csv_files = glob.glob(q)\n",
    "\n",
    "#To check your work, print the results. \n",
    "#This will return a list of only .csv files.\n",
    "\n",
    "print(csv_files)"
   ]
  },
  {
   "cell_type": "markdown",
   "id": "54e1f9c4",
   "metadata": {},
   "source": [
    "### In this example, the .csv files containing lat/long coordinates all have a file name that ends in a series of numbers. \n",
    "### To filter the list to only these files, import the re package. More information on how to filter and search with the re package can be found here: (https://www.w3schools.com/python/python_regex.asp)\n"
   ]
  },
  {
   "cell_type": "code",
   "execution_count": null,
   "id": "dafa4866",
   "metadata": {},
   "outputs": [],
   "source": [
    "#Filter to .csv files containing lat/lon coords.\n",
    "#These files are named 'logfilename.csv'\n",
    "#All logfilenames end with a number.\n",
    "#Use re to search for these files\n",
    "#and add the useful files to a new list.\n",
    "\n",
    "import re\n",
    "\n",
    "useful_files = []  # empty list for storing the useful files\n",
    "for file in csv_files:\n",
    "    if re.search('[0-9][.]csv', file):\n",
    "        useful_files.append(file)\n",
    "\n",
    "# Check your work.\n",
    "\n",
    "print(useful_files)\n",
    "\n",
    "#Check how many useful files there are.\n",
    "#This is also the number of lat/long coordinates.\n",
    "\n",
    "len(useful_files)"
   ]
  },
  {
   "cell_type": "markdown",
   "id": "54033848",
   "metadata": {},
   "source": [
    "### Now that the files containing the lat/long coordinates are grouped in a single list, the next step is to extract a single coordinate pair from each file. \n",
    "### In this example, each .csv file contains a list of coordinate pairs. We would like to calculate the \"average\" coordinate pair so that we only extract *one* coordinate pair from each file. \n",
    "### This can be done by defining a function that calculates the average of the lats and longs in each file and returns a single pair."
   ]
  },
  {
   "cell_type": "code",
   "execution_count": null,
   "id": "0746a6db",
   "metadata": {},
   "outputs": [],
   "source": [
    "# First, read one of the files to see what the data structure looks like.\n",
    "\n",
    "test = pd.read_csv(useful_files[0])\n",
    "test.head()"
   ]
  },
  {
   "cell_type": "markdown",
   "id": "3f34a6fb",
   "metadata": {},
   "source": [
    "### The columns containing the latitude and longitude values are named 'Lat [deg]' and 'Lon [deg]'. Use these column names to specify which values to average in the function, as shown below."
   ]
  },
  {
   "cell_type": "code",
   "execution_count": null,
   "id": "a8bc77b2",
   "metadata": {},
   "outputs": [],
   "source": [
    "#Test: Define a function to read file,\n",
    "#average the lat and lon coordinates,\n",
    "#and return the average coords as a pair.\n",
    "\n",
    "def coord_pair(f):\n",
    "    file = pd.read_csv(f)\n",
    "    avg_lat= file['Lat [deg]'].mean()\n",
    "    avg_lon= file['Lon [deg]'].mean()\n",
    "    return (avg_lat,avg_lon)\n",
    "\n",
    "coord_pair(useful_files[0])"
   ]
  },
  {
   "cell_type": "code",
   "execution_count": null,
   "id": "a554abd9",
   "metadata": {},
   "outputs": [],
   "source": [
    "#Create an empty list to store the lat/lon coords.\n",
    "#Apply the coord function to all useful files.\n",
    "#Store output in the list.\n",
    "\n",
    "lat_lon_list = []\n",
    "for f in useful_files:\n",
    "    lat_lon_list.append(coord_pair(f))\n",
    "    "
   ]
  },
  {
   "cell_type": "code",
   "execution_count": null,
   "id": "81258077",
   "metadata": {},
   "outputs": [],
   "source": [
    "#Check list of lat/lon coords.\n",
    "\n",
    "print(lat_lon_list)"
   ]
  },
  {
   "cell_type": "code",
   "execution_count": null,
   "id": "f1035058",
   "metadata": {},
   "outputs": [],
   "source": [
    "#Check length of coordinate list\n",
    "#to make sure it matches the number of useful files.\n",
    "\n",
    "len(lat_lon_list)"
   ]
  },
  {
   "cell_type": "code",
   "execution_count": null,
   "id": "ef52d366",
   "metadata": {},
   "outputs": [],
   "source": [
    "#Create a DataFrame object from the list of coordinates.\n",
    "\n",
    "df = pd.DataFrame(lat_lon_list, columns=['Lat[deg]', 'Lon[deg]'])\n",
    "print(df)"
   ]
  },
  {
   "cell_type": "code",
   "execution_count": null,
   "id": "9659e3d8",
   "metadata": {},
   "outputs": [],
   "source": [
    "# Convert the DataFrame to a .csv\n",
    "df.to_csv('CN_posts.csv', index=False)"
   ]
  },
  {
   "cell_type": "markdown",
   "id": "12e43a23",
   "metadata": {},
   "source": [
    "### That's it! You've done it!"
   ]
  }
 ],
 "metadata": {
  "kernelspec": {
   "display_name": "Python 3",
   "language": "python",
   "name": "python3"
  },
  "language_info": {
   "codemirror_mode": {
    "name": "ipython",
    "version": 3
   },
   "file_extension": ".py",
   "mimetype": "text/x-python",
   "name": "python",
   "nbconvert_exporter": "python",
   "pygments_lexer": "ipython3",
   "version": "3.8.8"
  }
 },
 "nbformat": 4,
 "nbformat_minor": 5
}
